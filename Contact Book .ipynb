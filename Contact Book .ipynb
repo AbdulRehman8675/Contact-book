{
 "cells": [
  {
   "cell_type": "code",
   "execution_count": 3,
   "id": "9e7d3b02-5c0b-4788-ae6b-7576722928b0",
   "metadata": {},
   "outputs": [
    {
     "name": "stdout",
     "output_type": "stream",
     "text": [
      "\n",
      "---- Contact Book Menu ----\n",
      "1. Add Contact\n",
      "2. View Contacts\n",
      "3. Search Contact\n",
      "4. Update Contact\n",
      "5. Delete Contact\n",
      "6. Save Contacts\n",
      "7. Load Contacts\n",
      "8. Exit\n"
     ]
    },
    {
     "name": "stdin",
     "output_type": "stream",
     "text": [
      "Choose an option:  1\n",
      "Enter name:  abdul rehman\n",
      "Enter phone number:  2390483243\n"
     ]
    },
    {
     "name": "stdout",
     "output_type": "stream",
     "text": [
      "Please Enter 11 digit number\n"
     ]
    },
    {
     "name": "stdin",
     "output_type": "stream",
     "text": [
      "Enter email:  03021335566\n"
     ]
    },
    {
     "name": "stdout",
     "output_type": "stream",
     "text": [
      "Contact abdul rehman added.\n",
      "\n",
      "---- Contact Book Menu ----\n",
      "1. Add Contact\n",
      "2. View Contacts\n",
      "3. Search Contact\n",
      "4. Update Contact\n",
      "5. Delete Contact\n",
      "6. Save Contacts\n",
      "7. Load Contacts\n",
      "8. Exit\n"
     ]
    },
    {
     "name": "stdin",
     "output_type": "stream",
     "text": [
      "Choose an option:  2\n"
     ]
    },
    {
     "name": "stdout",
     "output_type": "stream",
     "text": [
      "Name: abdul rehman, Phone: 2390483243, Email: 03021335566\n",
      "\n",
      "---- Contact Book Menu ----\n",
      "1. Add Contact\n",
      "2. View Contacts\n",
      "3. Search Contact\n",
      "4. Update Contact\n",
      "5. Delete Contact\n",
      "6. Save Contacts\n",
      "7. Load Contacts\n",
      "8. Exit\n"
     ]
    },
    {
     "name": "stdin",
     "output_type": "stream",
     "text": [
      "Choose an option:  1\n",
      "Enter name:  as\n",
      "Enter phone number:  9230302000000000000000000000000000000\n"
     ]
    },
    {
     "name": "stdout",
     "output_type": "stream",
     "text": [
      "Please Enter 11 digit number\n"
     ]
    },
    {
     "ename": "KeyboardInterrupt",
     "evalue": "Interrupted by user",
     "output_type": "error",
     "traceback": [
      "\u001b[1;31m---------------------------------------------------------------------------\u001b[0m",
      "\u001b[1;31mKeyboardInterrupt\u001b[0m                         Traceback (most recent call last)",
      "Cell \u001b[1;32mIn[3], line 110\u001b[0m\n\u001b[0;32m    107\u001b[0m             \u001b[38;5;28mprint\u001b[39m(\u001b[38;5;124m\"\u001b[39m\u001b[38;5;124mInvalid option. Please choose again.\u001b[39m\u001b[38;5;124m\"\u001b[39m)\n\u001b[0;32m    109\u001b[0m \u001b[38;5;66;03m# Run the contact book program\u001b[39;00m\n\u001b[1;32m--> 110\u001b[0m \u001b[43mmenu\u001b[49m\u001b[43m(\u001b[49m\u001b[43m)\u001b[49m\n",
      "Cell \u001b[1;32mIn[3], line 84\u001b[0m, in \u001b[0;36mmenu\u001b[1;34m()\u001b[0m\n\u001b[0;32m     82\u001b[0m     \u001b[38;5;28;01melse\u001b[39;00m:\n\u001b[0;32m     83\u001b[0m         \u001b[38;5;28;01mpass\u001b[39;00m\n\u001b[1;32m---> 84\u001b[0m     email \u001b[38;5;241m=\u001b[39m \u001b[38;5;28;43minput\u001b[39;49m\u001b[43m(\u001b[49m\u001b[38;5;124;43m\"\u001b[39;49m\u001b[38;5;124;43mEnter email: \u001b[39;49m\u001b[38;5;124;43m\"\u001b[39;49m\u001b[43m)\u001b[49m\n\u001b[0;32m     85\u001b[0m     add_contact(name, phone, email)\n\u001b[0;32m     86\u001b[0m \u001b[38;5;28;01melif\u001b[39;00m choice \u001b[38;5;241m==\u001b[39m \u001b[38;5;124m\"\u001b[39m\u001b[38;5;124m2\u001b[39m\u001b[38;5;124m\"\u001b[39m:\n",
      "File \u001b[1;32m~\\.conda\\envs\\rio\\Lib\\site-packages\\ipykernel\\kernelbase.py:1282\u001b[0m, in \u001b[0;36mKernel.raw_input\u001b[1;34m(self, prompt)\u001b[0m\n\u001b[0;32m   1280\u001b[0m     msg \u001b[38;5;241m=\u001b[39m \u001b[38;5;124m\"\u001b[39m\u001b[38;5;124mraw_input was called, but this frontend does not support input requests.\u001b[39m\u001b[38;5;124m\"\u001b[39m\n\u001b[0;32m   1281\u001b[0m     \u001b[38;5;28;01mraise\u001b[39;00m StdinNotImplementedError(msg)\n\u001b[1;32m-> 1282\u001b[0m \u001b[38;5;28;01mreturn\u001b[39;00m \u001b[38;5;28;43mself\u001b[39;49m\u001b[38;5;241;43m.\u001b[39;49m\u001b[43m_input_request\u001b[49m\u001b[43m(\u001b[49m\n\u001b[0;32m   1283\u001b[0m \u001b[43m    \u001b[49m\u001b[38;5;28;43mstr\u001b[39;49m\u001b[43m(\u001b[49m\u001b[43mprompt\u001b[49m\u001b[43m)\u001b[49m\u001b[43m,\u001b[49m\n\u001b[0;32m   1284\u001b[0m \u001b[43m    \u001b[49m\u001b[38;5;28;43mself\u001b[39;49m\u001b[38;5;241;43m.\u001b[39;49m\u001b[43m_parent_ident\u001b[49m\u001b[43m[\u001b[49m\u001b[38;5;124;43m\"\u001b[39;49m\u001b[38;5;124;43mshell\u001b[39;49m\u001b[38;5;124;43m\"\u001b[39;49m\u001b[43m]\u001b[49m\u001b[43m,\u001b[49m\n\u001b[0;32m   1285\u001b[0m \u001b[43m    \u001b[49m\u001b[38;5;28;43mself\u001b[39;49m\u001b[38;5;241;43m.\u001b[39;49m\u001b[43mget_parent\u001b[49m\u001b[43m(\u001b[49m\u001b[38;5;124;43m\"\u001b[39;49m\u001b[38;5;124;43mshell\u001b[39;49m\u001b[38;5;124;43m\"\u001b[39;49m\u001b[43m)\u001b[49m\u001b[43m,\u001b[49m\n\u001b[0;32m   1286\u001b[0m \u001b[43m    \u001b[49m\u001b[43mpassword\u001b[49m\u001b[38;5;241;43m=\u001b[39;49m\u001b[38;5;28;43;01mFalse\u001b[39;49;00m\u001b[43m,\u001b[49m\n\u001b[0;32m   1287\u001b[0m \u001b[43m\u001b[49m\u001b[43m)\u001b[49m\n",
      "File \u001b[1;32m~\\.conda\\envs\\rio\\Lib\\site-packages\\ipykernel\\kernelbase.py:1325\u001b[0m, in \u001b[0;36mKernel._input_request\u001b[1;34m(self, prompt, ident, parent, password)\u001b[0m\n\u001b[0;32m   1322\u001b[0m \u001b[38;5;28;01mexcept\u001b[39;00m \u001b[38;5;167;01mKeyboardInterrupt\u001b[39;00m:\n\u001b[0;32m   1323\u001b[0m     \u001b[38;5;66;03m# re-raise KeyboardInterrupt, to truncate traceback\u001b[39;00m\n\u001b[0;32m   1324\u001b[0m     msg \u001b[38;5;241m=\u001b[39m \u001b[38;5;124m\"\u001b[39m\u001b[38;5;124mInterrupted by user\u001b[39m\u001b[38;5;124m\"\u001b[39m\n\u001b[1;32m-> 1325\u001b[0m     \u001b[38;5;28;01mraise\u001b[39;00m \u001b[38;5;167;01mKeyboardInterrupt\u001b[39;00m(msg) \u001b[38;5;28;01mfrom\u001b[39;00m \u001b[38;5;28;01mNone\u001b[39;00m\n\u001b[0;32m   1326\u001b[0m \u001b[38;5;28;01mexcept\u001b[39;00m \u001b[38;5;167;01mException\u001b[39;00m:\n\u001b[0;32m   1327\u001b[0m     \u001b[38;5;28mself\u001b[39m\u001b[38;5;241m.\u001b[39mlog\u001b[38;5;241m.\u001b[39mwarning(\u001b[38;5;124m\"\u001b[39m\u001b[38;5;124mInvalid Message:\u001b[39m\u001b[38;5;124m\"\u001b[39m, exc_info\u001b[38;5;241m=\u001b[39m\u001b[38;5;28;01mTrue\u001b[39;00m)\n",
      "\u001b[1;31mKeyboardInterrupt\u001b[0m: Interrupted by user"
     ]
    }
   ],
   "source": [
    "import json\n",
    "\n",
    "# Initialize contact book (can be loaded from file)\n",
    "contact_book = {}\n",
    "\n",
    "# Function to add a new contact\n",
    "def add_contact(name, phone, email):\n",
    "    contact_book[name] = {\"phone\": phone, \"email\": email}\n",
    "    print(f\"Contact {name} added.\")\n",
    "\n",
    "# Function to view all contacts\n",
    "def view_contacts():\n",
    "    if contact_book:\n",
    "        for name, details in contact_book.items():\n",
    "            print(f\"Name: {name}, Phone: {details['phone']}, Email: {details['email']}\")\n",
    "    else:\n",
    "        print(\"No contacts available.\")\n",
    "\n",
    "# Function to search for a contact by name\n",
    "def search_contact(name):\n",
    "    if name in contact_book:\n",
    "        details = contact_book[name]\n",
    "        print(f\"Name: {name}, Phone: {details['phone']}, Email: {details['email']}\")\n",
    "    else:\n",
    "        print(f\"Contact {name} not found.\")\n",
    "\n",
    "# Function to update a contact\n",
    "def update_contact(name, phone=None, email=None):\n",
    "    if name in contact_book:\n",
    "        if phone:\n",
    "            contact_book[name]['phone'] = phone\n",
    "        if email:\n",
    "            contact_book[name]['email'] = email\n",
    "        print(f\"Contact {name} updated.\")\n",
    "    else:\n",
    "        print(f\"Contact {name} not found.\")\n",
    "\n",
    "# Function to delete a contact\n",
    "def delete_contact(name):\n",
    "    if name in contact_book:\n",
    "        del contact_book[name]\n",
    "        print(f\"Contact {name} deleted.\")\n",
    "    else:\n",
    "        print(f\"Contact {name} not found.\")\n",
    "\n",
    "# Optional: Save contacts to a file\n",
    "def save_contacts(filename=\"contacts.json\"):\n",
    "    with open(filename, 'w') as file:\n",
    "        json.dump(contact_book, file)\n",
    "    print(\"Contacts saved to file.\")\n",
    "\n",
    "# Optional: Load contacts from a file\n",
    "def load_contacts(filename=\"contacts.json\"):\n",
    "    global contact_book\n",
    "    try:\n",
    "        with open(filename, 'r') as file:\n",
    "            contact_book = json.load(file)\n",
    "        print(\"Contacts loaded from file.\")\n",
    "    except FileNotFoundError:\n",
    "        print(\"No saved contacts found.\")\n",
    "\n",
    "# Main program loop (interactive menu)\n",
    "def menu():\n",
    "    while True:\n",
    "        print(\"\\n---- Contact Book Menu ----\")\n",
    "        print(\"1. Add Contact\")\n",
    "        print(\"2. View Contacts\")\n",
    "        print(\"3. Search Contact\")\n",
    "        print(\"4. Update Contact\")\n",
    "        print(\"5. Delete Contact\")\n",
    "        print(\"6. Save Contacts\")\n",
    "        print(\"7. Load Contacts\")\n",
    "        print(\"8. Exit\")\n",
    "        choice = input(\"Choose an option: \")\n",
    "\n",
    "        if choice == \"1\":\n",
    "            name = input(\"Enter name: \")\n",
    "            \n",
    "            phone = int(input(\"Enter phone number: \"))\n",
    "            if phone > 11:\n",
    "                print(\"Please Enter 11 digit number\")\n",
    "            else:\n",
    "                pass\n",
    "            email = input(\"Enter email: \")\n",
    "            add_contact(name, phone, email)\n",
    "        elif choice == \"2\":\n",
    "            view_contacts()\n",
    "        elif choice == \"3\":\n",
    "            name = input(\"Enter name to search: \")\n",
    "            search_contact(name)\n",
    "        elif choice == \"4\":\n",
    "            name = input(\"Enter name to update: \")\n",
    "            phone = input(\"Enter new phone number (press enter to skip): \")\n",
    "            email = input(\"Enter new email (press enter to skip): \")\n",
    "            update_contact(name, phone or None, email or None)\n",
    "        elif choice == \"5\":\n",
    "            name = input(\"Enter name to delete: \")\n",
    "            delete_contact(name)\n",
    "        elif choice == \"6\":\n",
    "            save_contacts()\n",
    "        elif choice == \"7\":\n",
    "            load_contacts()\n",
    "        elif choice == \"8\":\n",
    "            print(\"Exiting Contact Book.\")\n",
    "            break\n",
    "        else:\n",
    "            print(\"Invalid option. Please choose again.\")\n",
    "\n",
    "# Run the contact book program\n",
    "menu()\n",
    "    "
   ]
  },
  {
   "cell_type": "code",
   "execution_count": null,
   "id": "b1e399da-9d46-4046-a1e4-e51abf446edc",
   "metadata": {},
   "outputs": [],
   "source": []
  }
 ],
 "metadata": {
  "kernelspec": {
   "display_name": "Python 3 (ipykernel)",
   "language": "python",
   "name": "python3"
  },
  "language_info": {
   "codemirror_mode": {
    "name": "ipython",
    "version": 3
   },
   "file_extension": ".py",
   "mimetype": "text/x-python",
   "name": "python",
   "nbconvert_exporter": "python",
   "pygments_lexer": "ipython3",
   "version": "3.12.4"
  }
 },
 "nbformat": 4,
 "nbformat_minor": 5
}
